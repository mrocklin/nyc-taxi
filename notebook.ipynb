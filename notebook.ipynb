{
 "cells": [
  {
   "cell_type": "markdown",
   "id": "18132d22-7d4e-45fd-8ab3-9ca520c534c3",
   "metadata": {},
   "source": [
    "## NYC Taxi Uber/Lyft Data Transformation\n",
    "\n",
    "Let's this a bit cleaner shall we?\n",
    "\n",
    "https://www.nyc.gov/site/tlc/businesses/high-volume-for-hire-services.page"
   ]
  },
  {
   "cell_type": "markdown",
   "id": "a30574ae-1f53-4099-bd20-ddf6f11da1a1",
   "metadata": {},
   "source": [
    "## Get Dask cluster close to the data"
   ]
  },
  {
   "cell_type": "code",
   "execution_count": null,
   "id": "9c2a59ff-1e2f-44bd-8d35-c990d85903ab",
   "metadata": {},
   "outputs": [],
   "source": [
    "import coiled\n",
    "cluster = coiled.Cluster(\n",
    "    n_workers=10,\n",
    "    name=\"nyc-taxi-uber-lyft\",\n",
    "    package_sync=True,\n",
    "    backend_options={\"region\": \"us-east-1\"},\n",
    "    worker_memory=\"64 GiB\",\n",
    ")"
   ]
  },
  {
   "cell_type": "code",
   "execution_count": null,
   "id": "56bdfef7-9ca4-4cd6-beaf-7f04992988c0",
   "metadata": {},
   "outputs": [],
   "source": [
    "from dask.distributed import Client\n",
    "client = Client(cluster)"
   ]
  },
  {
   "cell_type": "markdown",
   "id": "800da732-dff1-4b79-843b-618ab6b195a7",
   "metadata": {},
   "source": [
    "## Inspect data"
   ]
  },
  {
   "cell_type": "code",
   "execution_count": null,
   "id": "039a76ab-9f0d-411a-8171-56de39521bcd",
   "metadata": {},
   "outputs": [],
   "source": [
    "import s3fs\n",
    "\n",
    "s3 = s3fs.S3FileSystem()\n",
    "s3.glob(\"nyc-tlc/trip data/fhvhv_tripdata_*.parquet\")"
   ]
  },
  {
   "cell_type": "code",
   "execution_count": null,
   "id": "b1166cbc-18a1-4647-9e69-877918d2349e",
   "metadata": {},
   "outputs": [],
   "source": [
    "import dask.dataframe as dd\n",
    "\n",
    "df = dd.read_parquet(\n",
    "    \"s3://nyc-tlc/trip data/fhvhv_tripdata_*.parquet\",\n",
    ")\n",
    "df"
   ]
  },
  {
   "cell_type": "code",
   "execution_count": null,
   "id": "ab0abf06-5ea0-4f1d-ac66-85817fdace95",
   "metadata": {},
   "outputs": [],
   "source": [
    "df.partitions[0].memory_usage(deep=True).compute()"
   ]
  },
  {
   "cell_type": "code",
   "execution_count": null,
   "id": "b8336563-acf3-402a-b61b-ee67683e62de",
   "metadata": {},
   "outputs": [],
   "source": [
    "df.dtypes"
   ]
  },
  {
   "cell_type": "markdown",
   "id": "a1598670-aab5-4fe6-b30f-4b597cbb6885",
   "metadata": {},
   "source": [
    "## Two problems!\n",
    "\n",
    "1.  Massive partitions!\n",
    "2.  Inefficient data types!\n",
    "    -   Strings\n",
    "    -   Categories"
   ]
  },
  {
   "cell_type": "markdown",
   "id": "5fb54442-695a-4710-ab95-be12a8d593c6",
   "metadata": {},
   "source": [
    "## Convert dtypes!"
   ]
  },
  {
   "cell_type": "code",
   "execution_count": null,
   "id": "170208e5-daa5-410b-8d8b-41c8c335c8f2",
   "metadata": {},
   "outputs": [],
   "source": [
    "import pandas as pd\n",
    "import numpy as np\n",
    "\n",
    "yes_no = pd.CategoricalDtype(categories=[\"Y\", \"N\"])"
   ]
  },
  {
   "cell_type": "code",
   "execution_count": null,
   "id": "a7acaba3-77c4-489c-a898-b84328a3a403",
   "metadata": {},
   "outputs": [],
   "source": [
    "conversions = {}\n",
    "for column, dtype in df.dtypes.items():\n",
    "    if dtype == \"object\":\n",
    "        conversions[column] = \"string[pyarrow]\"\n",
    "    if dtype == \"float64\":\n",
    "        conversions[column] = \"float32\"\n",
    "    if dtype == \"int64\": \n",
    "        conversions[column] = \"int32\"\n",
    "    if \"flag\" in column:\n",
    "        conversions[column] = yes_no\n",
    "        \n",
    "conversions"
   ]
  },
  {
   "cell_type": "code",
   "execution_count": null,
   "id": "4082138a-9987-4322-9d61-9a724c4087f8",
   "metadata": {},
   "outputs": [],
   "source": [
    "df = df.astype(conversions)"
   ]
  },
  {
   "cell_type": "markdown",
   "id": "46ead842-2fc4-45b6-a793-1726f9741f6a",
   "metadata": {},
   "source": [
    "## Repartition to smaller chunks!"
   ]
  },
  {
   "cell_type": "code",
   "execution_count": null,
   "id": "299e7171-556b-489d-8dfe-28dc7933b272",
   "metadata": {},
   "outputs": [],
   "source": [
    "df = df.persist()\n",
    "\n",
    "df = df.repartition(partition_size=\"128MB\").persist()"
   ]
  },
  {
   "cell_type": "code",
   "execution_count": null,
   "id": "a9265cc7-d031-4c54-8630-d4e8f85ff58a",
   "metadata": {},
   "outputs": [],
   "source": [
    "import dask\n",
    "\n",
    "dask.util.format_bytes(\n",
    "    df.memory_usage(deep=True).compute()\n",
    ")"
   ]
  },
  {
   "cell_type": "markdown",
   "id": "9a9e4456-cad0-46c2-ad07-945b0375bcf7",
   "metadata": {},
   "source": [
    "## Sort "
   ]
  },
  {
   "cell_type": "code",
   "execution_count": null,
   "id": "960ae5e2-8cc7-4d1c-b1a6-070dab6df4a8",
   "metadata": {},
   "outputs": [],
   "source": [
    "df = df.set_index(\"request_datetime\").persist()"
   ]
  },
  {
   "cell_type": "markdown",
   "id": "b5d0fcc2-7a88-45f4-a592-08a8ebb5fe53",
   "metadata": {},
   "source": [
    "## Pretty close to one-day partitioning"
   ]
  },
  {
   "cell_type": "code",
   "execution_count": null,
   "id": "d7c2ad2c-27ee-435a-bec6-b77a4aa5c932",
   "metadata": {},
   "outputs": [],
   "source": [
    "df.divisions"
   ]
  },
  {
   "cell_type": "code",
   "execution_count": null,
   "id": "25352a90-0bce-494d-852a-c69d2c364c3f",
   "metadata": {},
   "outputs": [],
   "source": [
    "df = df.repartition(freq=\"1d\")"
   ]
  },
  {
   "cell_type": "code",
   "execution_count": null,
   "id": "4f1a634c-aac7-480e-9f87-a50f6aeb950f",
   "metadata": {},
   "outputs": [],
   "source": [
    "s3.mkdir(\"/oss-shared-scratch/mrocklin\")"
   ]
  },
  {
   "cell_type": "code",
   "execution_count": null,
   "id": "951a8786-e9af-4bf8-98ec-7bf0e4a77df1",
   "metadata": {},
   "outputs": [],
   "source": [
    "divisions = df.divisions\n",
    "\n",
    "def name_function(index: int) -> str:\n",
    "    return str(divisions[index].date()) + \".parquet\"\n",
    "\n",
    "name_function(divisions[0])"
   ]
  },
  {
   "cell_type": "markdown",
   "id": "089cd626-fa48-45ce-9e3f-4fb7ae50cbe4",
   "metadata": {},
   "source": [
    "## Save!"
   ]
  },
  {
   "cell_type": "code",
   "execution_count": null,
   "id": "d5e11b13-2792-44f1-9fb3-0189f0173018",
   "metadata": {},
   "outputs": [],
   "source": [
    "df.to_parquet(\n",
    "    \"s3://oss-shared-scratch/mrocklin/nyc-taxi-fhv/\", \n",
    "    name_function=name_function,\n",
    ")"
   ]
  },
  {
   "cell_type": "code",
   "execution_count": null,
   "id": "122f3978-f0b3-457c-8eca-50f97386606a",
   "metadata": {},
   "outputs": [],
   "source": [
    "s3.ls(\"/oss-shared-scratch/mrocklin/nyc-taxi-fhv\")[:20]"
   ]
  },
  {
   "cell_type": "markdown",
   "id": "675eb23f-81ba-482f-ac73-0424e0d75a73",
   "metadata": {},
   "source": [
    "## How is it to read this data?"
   ]
  },
  {
   "cell_type": "code",
   "execution_count": null,
   "id": "31f87beb-f723-4740-b9e9-786304728ab7",
   "metadata": {},
   "outputs": [],
   "source": [
    "df = dd.read_parquet(\n",
    "    \"s3://oss-shared-scratch/mrocklin/nyc-taxi-fhv\", \n",
    "    use_nullable_dtypes=True\n",
    ").persist()\n",
    "\n",
    "df.dtypes"
   ]
  },
  {
   "cell_type": "code",
   "execution_count": null,
   "id": "9ceeb928-987c-443d-bc6d-9dc60a3b4fc0",
   "metadata": {},
   "outputs": [],
   "source": [
    "import dask\n",
    "\n",
    "dask.utils.format_bytes(\n",
    "    df.memory_usage(deep=True).sum().compute()\n",
    ")"
   ]
  },
  {
   "cell_type": "code",
   "execution_count": null,
   "id": "15ae60eb-96c2-4e70-805a-7be2bdb2ae5d",
   "metadata": {},
   "outputs": [],
   "source": [
    "df.memory_usage_per_partition(deep=True).compute().apply(dask.utils.format_bytes)"
   ]
  }
 ],
 "metadata": {
  "kernelspec": {
   "display_name": "Python [conda env:nyc-taxi]",
   "language": "python",
   "name": "conda-env-nyc-taxi-py"
  },
  "language_info": {
   "codemirror_mode": {
    "name": "ipython",
    "version": 3
   },
   "file_extension": ".py",
   "mimetype": "text/x-python",
   "name": "python",
   "nbconvert_exporter": "python",
   "pygments_lexer": "ipython3",
   "version": "3.10.6"
  }
 },
 "nbformat": 4,
 "nbformat_minor": 5
}
